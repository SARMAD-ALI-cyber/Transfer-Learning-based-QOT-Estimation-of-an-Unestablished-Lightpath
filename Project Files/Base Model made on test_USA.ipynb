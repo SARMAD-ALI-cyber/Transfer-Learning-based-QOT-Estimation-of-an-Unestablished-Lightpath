{
 "cells": [
  {
   "cell_type": "code",
   "execution_count": 1,
   "id": "9d731ecb",
   "metadata": {},
   "outputs": [],
   "source": [
    "import numpy as np\n",
    "import matplotlib.pyplot as plt\n",
    "import pandas as pd\n",
    "# import warnings\n",
    "# warnings.filterwarnings('ignore')\n",
    "from sklearn.model_selection import train_test_split\n",
    "from sklearn.preprocessing import OneHotEncoder\n",
    "from sklearn.preprocessing import MinMaxScaler\n",
    "from sklearn.preprocessing import StandardScaler\n",
    "import copy\n",
    "import tensorflow as tf\n",
    "from tensorflow.keras.models import Sequential\n",
    "from tensorflow.keras.layers import Dense\n",
    "import matplotlib.pyplot as plt\n",
    "import logging\n",
    "logging.getLogger(\"tensorflow\").setLevel(logging.ERROR)\n",
    "tf.autograph.set_verbosity(0)\n",
    "from scipy.special import expit"
   ]
  },
  {
   "cell_type": "code",
   "execution_count": 2,
   "id": "723b7d7a",
   "metadata": {},
   "outputs": [
    {
     "data": {
      "text/plain": [
       "(33000, 306)"
      ]
     },
     "execution_count": 2,
     "metadata": {},
     "output_type": "execute_result"
    }
   ],
   "source": [
    "data = pd.read_csv('test_USA.csv')\n",
    "data = data.fillna(0)\n",
    "data.shape"
   ]
  },
  {
   "cell_type": "code",
   "execution_count": 17,
   "id": "8b9feecb",
   "metadata": {},
   "outputs": [
    {
     "name": "stdout",
     "output_type": "stream",
     "text": [
      "(26400, 305)\n",
      "(26400, 1)\n",
      "(6600, 305)\n",
      "(6600, 1)\n"
     ]
    }
   ],
   "source": [
    "X = data.iloc[:, :-1]  # Select all columns except the last one\n",
    "y=data[\"GSNR_1\"]\n",
    "X_train, X_test, y_train, y_test = train_test_split(X, y, test_size=0.2, random_state=42)\n",
    "#======Converting to Arrays=========\n",
    "X_train=np.array(X_train)\n",
    "y_train=np.array(y_train)\n",
    "X_test=np.array(X_test)\n",
    "y_test=np.array(y_test)\n",
    "#========end=======================\n",
    "#=======Reshaping Labels===========\n",
    "y_train=y_train.reshape(-1,1)\n",
    "y_test=y_test.reshape(-1,1)\n",
    "#======end========================\n",
    "#===========printing Shapes======\n",
    "print(X_train.shape)\n",
    "print(y_train.shape)\n",
    "print(X_test.shape)\n",
    "print(y_test.shape)"
   ]
  },
  {
   "cell_type": "code",
   "execution_count": 18,
   "id": "da3d5c6d",
   "metadata": {},
   "outputs": [
    {
     "name": "stdout",
     "output_type": "stream",
     "text": [
      "(26400, 305)\n"
     ]
    }
   ],
   "source": [
    "scaler=StandardScaler()\n",
    "scaler.fit(X_train)\n",
    "X_train = scaler.transform(X_train)\n",
    "X_test=scaler.transform(X_test)\n",
    "label_scaler=MinMaxScaler()\n",
    "label_scaler.fit(y_train)\n",
    "y_train=label_scaler.transform(y_train)\n",
    "y_test=label_scaler.transform(y_test)\n",
    "print(X_train.shape)"
   ]
  },
  {
   "cell_type": "code",
   "execution_count": 19,
   "id": "aefb6258",
   "metadata": {},
   "outputs": [
    {
     "name": "stdout",
     "output_type": "stream",
     "text": [
      "Model: \"sequential_1\"\n",
      "_________________________________________________________________\n",
      " Layer (type)                Output Shape              Param #   \n",
      "=================================================================\n",
      " dense_7 (Dense)             (None, 305)               93330     \n",
      "                                                                 \n",
      " dense_8 (Dense)             (None, 256)               78336     \n",
      "                                                                 \n",
      " dense_9 (Dense)             (None, 128)               32896     \n",
      "                                                                 \n",
      " dense_10 (Dense)            (None, 64)                8256      \n",
      "                                                                 \n",
      " dense_11 (Dense)            (None, 32)                2080      \n",
      "                                                                 \n",
      " dense_12 (Dense)            (None, 16)                528       \n",
      "                                                                 \n",
      " dense_13 (Dense)            (None, 1)                 17        \n",
      "                                                                 \n",
      "=================================================================\n",
      "Total params: 215,443\n",
      "Trainable params: 215,443\n",
      "Non-trainable params: 0\n",
      "_________________________________________________________________\n"
     ]
    }
   ],
   "source": [
    "model = tf.keras.Sequential([\n",
    "    tf.keras.layers.Dense(305, activation='relu', input_shape=(305,)),\n",
    "    tf.keras.layers.Dense(256, activation='relu'),\n",
    "    tf.keras.layers.Dense(128, activation='relu'),\n",
    "    tf.keras.layers.Dense(64, activation='relu'),\n",
    "    tf.keras.layers.Dense(32, activation='relu'),\n",
    "    tf.keras.layers.Dense(16, activation='relu' ),\n",
    "    tf.keras.layers.Dense(1,activation='linear')\n",
    "])\n",
    "model.summary()\n",
    "optimizer = tf.keras.optimizers.Adam(learning_rate=0.001)#0.001\n",
    "model.compile(optimizer=optimizer, loss='mean_squared_error')"
   ]
  },
  {
   "cell_type": "code",
   "execution_count": 20,
   "id": "d1e60bd1",
   "metadata": {},
   "outputs": [
    {
     "name": "stdout",
     "output_type": "stream",
     "text": [
      "Epoch 1/100\n",
      "1/1 - 4s - loss: 0.0856 - val_loss: 0.1502 - 4s/epoch - 4s/step\n",
      "Epoch 2/100\n",
      "1/1 - 0s - loss: 0.1487 - val_loss: 0.0579 - 428ms/epoch - 428ms/step\n",
      "Epoch 3/100\n",
      "1/1 - 1s - loss: 0.0563 - val_loss: 0.0536 - 508ms/epoch - 508ms/step\n",
      "Epoch 4/100\n",
      "1/1 - 1s - loss: 0.0518 - val_loss: 0.0449 - 596ms/epoch - 596ms/step\n",
      "Epoch 5/100\n",
      "1/1 - 0s - loss: 0.0437 - val_loss: 0.0372 - 407ms/epoch - 407ms/step\n",
      "Epoch 6/100\n",
      "1/1 - 0s - loss: 0.0365 - val_loss: 0.0379 - 410ms/epoch - 410ms/step\n",
      "Epoch 7/100\n",
      "1/1 - 1s - loss: 0.0375 - val_loss: 0.0364 - 667ms/epoch - 667ms/step\n",
      "Epoch 8/100\n",
      "1/1 - 0s - loss: 0.0359 - val_loss: 0.0339 - 436ms/epoch - 436ms/step\n",
      "Epoch 9/100\n",
      "1/1 - 0s - loss: 0.0330 - val_loss: 0.0341 - 420ms/epoch - 420ms/step\n",
      "Epoch 10/100\n",
      "1/1 - 0s - loss: 0.0327 - val_loss: 0.0347 - 456ms/epoch - 456ms/step\n",
      "Epoch 11/100\n",
      "1/1 - 1s - loss: 0.0331 - val_loss: 0.0328 - 558ms/epoch - 558ms/step\n",
      "Epoch 12/100\n",
      "1/1 - 0s - loss: 0.0313 - val_loss: 0.0307 - 435ms/epoch - 435ms/step\n",
      "Epoch 13/100\n",
      "1/1 - 0s - loss: 0.0294 - val_loss: 0.0300 - 437ms/epoch - 437ms/step\n",
      "Epoch 14/100\n",
      "1/1 - 0s - loss: 0.0290 - val_loss: 0.0297 - 480ms/epoch - 480ms/step\n",
      "Epoch 15/100\n",
      "1/1 - 1s - loss: 0.0288 - val_loss: 0.0288 - 503ms/epoch - 503ms/step\n",
      "Epoch 16/100\n",
      "1/1 - 0s - loss: 0.0279 - val_loss: 0.0276 - 429ms/epoch - 429ms/step\n",
      "Epoch 17/100\n",
      "1/1 - 0s - loss: 0.0266 - val_loss: 0.0271 - 435ms/epoch - 435ms/step\n",
      "Epoch 18/100\n",
      "1/1 - 0s - loss: 0.0259 - val_loss: 0.0270 - 441ms/epoch - 441ms/step\n",
      "Epoch 19/100\n",
      "1/1 - 0s - loss: 0.0257 - val_loss: 0.0265 - 461ms/epoch - 461ms/step\n",
      "Epoch 20/100\n",
      "1/1 - 0s - loss: 0.0252 - val_loss: 0.0255 - 455ms/epoch - 455ms/step\n",
      "Epoch 21/100\n",
      "1/1 - 0s - loss: 0.0241 - val_loss: 0.0248 - 417ms/epoch - 417ms/step\n",
      "Epoch 22/100\n",
      "1/1 - 0s - loss: 0.0234 - val_loss: 0.0245 - 433ms/epoch - 433ms/step\n",
      "Epoch 23/100\n",
      "1/1 - 0s - loss: 0.0231 - val_loss: 0.0241 - 413ms/epoch - 413ms/step\n",
      "Epoch 24/100\n",
      "1/1 - 0s - loss: 0.0226 - val_loss: 0.0235 - 467ms/epoch - 467ms/step\n",
      "Epoch 25/100\n",
      "1/1 - 0s - loss: 0.0218 - val_loss: 0.0231 - 415ms/epoch - 415ms/step\n",
      "Epoch 26/100\n",
      "1/1 - 0s - loss: 0.0213 - val_loss: 0.0229 - 413ms/epoch - 413ms/step\n",
      "Epoch 27/100\n",
      "1/1 - 0s - loss: 0.0210 - val_loss: 0.0223 - 428ms/epoch - 428ms/step\n",
      "Epoch 28/100\n",
      "1/1 - 0s - loss: 0.0203 - val_loss: 0.0217 - 483ms/epoch - 483ms/step\n",
      "Epoch 29/100\n",
      "1/1 - 0s - loss: 0.0197 - val_loss: 0.0216 - 417ms/epoch - 417ms/step\n",
      "Epoch 30/100\n",
      "1/1 - 0s - loss: 0.0194 - val_loss: 0.0213 - 393ms/epoch - 393ms/step\n",
      "Epoch 31/100\n",
      "1/1 - 0s - loss: 0.0189 - val_loss: 0.0210 - 401ms/epoch - 401ms/step\n",
      "Epoch 32/100\n",
      "1/1 - 0s - loss: 0.0183 - val_loss: 0.0210 - 479ms/epoch - 479ms/step\n",
      "Epoch 33/100\n",
      "1/1 - 0s - loss: 0.0181 - val_loss: 0.0207 - 418ms/epoch - 418ms/step\n",
      "Epoch 34/100\n",
      "1/1 - 0s - loss: 0.0177 - val_loss: 0.0203 - 402ms/epoch - 402ms/step\n",
      "Epoch 35/100\n",
      "1/1 - 0s - loss: 0.0172 - val_loss: 0.0202 - 403ms/epoch - 403ms/step\n",
      "Epoch 36/100\n",
      "1/1 - 0s - loss: 0.0170 - val_loss: 0.0200 - 438ms/epoch - 438ms/step\n",
      "Epoch 37/100\n",
      "1/1 - 0s - loss: 0.0166 - val_loss: 0.0199 - 474ms/epoch - 474ms/step\n",
      "Epoch 38/100\n",
      "1/1 - 0s - loss: 0.0163 - val_loss: 0.0200 - 417ms/epoch - 417ms/step\n",
      "Epoch 39/100\n",
      "1/1 - 0s - loss: 0.0161 - val_loss: 0.0197 - 412ms/epoch - 412ms/step\n",
      "Epoch 40/100\n",
      "1/1 - 1s - loss: 0.0158 - val_loss: 0.0196 - 509ms/epoch - 509ms/step\n",
      "Epoch 41/100\n",
      "1/1 - 0s - loss: 0.0156 - val_loss: 0.0195 - 442ms/epoch - 442ms/step\n",
      "Epoch 42/100\n",
      "1/1 - 0s - loss: 0.0153 - val_loss: 0.0195 - 412ms/epoch - 412ms/step\n",
      "Epoch 43/100\n",
      "1/1 - 0s - loss: 0.0150 - val_loss: 0.0196 - 427ms/epoch - 427ms/step\n",
      "Epoch 44/100\n",
      "1/1 - 0s - loss: 0.0148 - val_loss: 0.0193 - 472ms/epoch - 472ms/step\n",
      "Epoch 45/100\n",
      "1/1 - 0s - loss: 0.0145 - val_loss: 0.0192 - 469ms/epoch - 469ms/step\n",
      "Epoch 46/100\n",
      "1/1 - 0s - loss: 0.0144 - val_loss: 0.0192 - 405ms/epoch - 405ms/step\n",
      "Epoch 47/100\n",
      "1/1 - 0s - loss: 0.0141 - val_loss: 0.0193 - 356ms/epoch - 356ms/step\n",
      "Epoch 48/100\n",
      "1/1 - 0s - loss: 0.0139 - val_loss: 0.0191 - 418ms/epoch - 418ms/step\n",
      "Epoch 49/100\n",
      "1/1 - 0s - loss: 0.0137 - val_loss: 0.0190 - 477ms/epoch - 477ms/step\n",
      "Epoch 50/100\n",
      "1/1 - 0s - loss: 0.0135 - val_loss: 0.0189 - 431ms/epoch - 431ms/step\n",
      "Epoch 51/100\n",
      "1/1 - 0s - loss: 0.0132 - val_loss: 0.0190 - 443ms/epoch - 443ms/step\n",
      "Epoch 52/100\n",
      "1/1 - 0s - loss: 0.0131 - val_loss: 0.0189 - 403ms/epoch - 403ms/step\n",
      "Epoch 53/100\n",
      "1/1 - 0s - loss: 0.0128 - val_loss: 0.0188 - 396ms/epoch - 396ms/step\n",
      "Epoch 54/100\n",
      "1/1 - 0s - loss: 0.0126 - val_loss: 0.0188 - 452ms/epoch - 452ms/step\n",
      "Epoch 55/100\n",
      "1/1 - 0s - loss: 0.0124 - val_loss: 0.0188 - 476ms/epoch - 476ms/step\n",
      "Epoch 56/100\n",
      "1/1 - 0s - loss: 0.0122 - val_loss: 0.0186 - 406ms/epoch - 406ms/step\n",
      "Epoch 57/100\n",
      "1/1 - 0s - loss: 0.0120 - val_loss: 0.0186 - 388ms/epoch - 388ms/step\n",
      "Epoch 58/100\n",
      "1/1 - 0s - loss: 0.0117 - val_loss: 0.0187 - 456ms/epoch - 456ms/step\n",
      "Epoch 59/100\n",
      "1/1 - 0s - loss: 0.0115 - val_loss: 0.0185 - 447ms/epoch - 447ms/step\n",
      "Epoch 60/100\n",
      "1/1 - 0s - loss: 0.0113 - val_loss: 0.0186 - 469ms/epoch - 469ms/step\n",
      "Epoch 61/100\n",
      "1/1 - 0s - loss: 0.0110 - val_loss: 0.0186 - 392ms/epoch - 392ms/step\n",
      "Epoch 62/100\n",
      "1/1 - 0s - loss: 0.0108 - val_loss: 0.0184 - 392ms/epoch - 392ms/step\n",
      "Epoch 63/100\n",
      "1/1 - 0s - loss: 0.0106 - val_loss: 0.0185 - 437ms/epoch - 437ms/step\n",
      "Epoch 64/100\n",
      "1/1 - 0s - loss: 0.0104 - val_loss: 0.0184 - 481ms/epoch - 481ms/step\n",
      "Epoch 65/100\n",
      "1/1 - 0s - loss: 0.0101 - val_loss: 0.0184 - 419ms/epoch - 419ms/step\n",
      "Epoch 66/100\n",
      "1/1 - 0s - loss: 0.0099 - val_loss: 0.0184 - 387ms/epoch - 387ms/step\n",
      "Epoch 67/100\n",
      "1/1 - 0s - loss: 0.0096 - val_loss: 0.0182 - 389ms/epoch - 389ms/step\n",
      "Epoch 68/100\n",
      "1/1 - 1s - loss: 0.0094 - val_loss: 0.0186 - 601ms/epoch - 601ms/step\n",
      "Epoch 69/100\n",
      "1/1 - 0s - loss: 0.0094 - val_loss: 0.0187 - 422ms/epoch - 422ms/step\n",
      "Epoch 70/100\n",
      "1/1 - 0s - loss: 0.0098 - val_loss: 0.0214 - 377ms/epoch - 377ms/step\n",
      "Epoch 71/100\n",
      "1/1 - 0s - loss: 0.0114 - val_loss: 0.0212 - 416ms/epoch - 416ms/step\n",
      "Epoch 72/100\n",
      "1/1 - 1s - loss: 0.0126 - val_loss: 0.0187 - 567ms/epoch - 567ms/step\n",
      "Epoch 73/100\n",
      "1/1 - 0s - loss: 0.0087 - val_loss: 0.0206 - 453ms/epoch - 453ms/step\n",
      "Epoch 74/100\n",
      "1/1 - 0s - loss: 0.0102 - val_loss: 0.0192 - 376ms/epoch - 376ms/step\n",
      "Epoch 75/100\n",
      "1/1 - 0s - loss: 0.0099 - val_loss: 0.0184 - 368ms/epoch - 368ms/step\n",
      "Epoch 76/100\n",
      "1/1 - 1s - loss: 0.0086 - val_loss: 0.0208 - 533ms/epoch - 533ms/step\n",
      "Epoch 77/100\n",
      "1/1 - 0s - loss: 0.0100 - val_loss: 0.0182 - 475ms/epoch - 475ms/step\n",
      "Epoch 78/100\n",
      "1/1 - 0s - loss: 0.0078 - val_loss: 0.0191 - 389ms/epoch - 389ms/step\n",
      "Epoch 79/100\n",
      "1/1 - 0s - loss: 0.0092 - val_loss: 0.0186 - 385ms/epoch - 385ms/step\n",
      "Epoch 80/100\n",
      "1/1 - 1s - loss: 0.0077 - val_loss: 0.0195 - 557ms/epoch - 557ms/step\n",
      "Epoch 81/100\n",
      "1/1 - 0s - loss: 0.0082 - val_loss: 0.0188 - 462ms/epoch - 462ms/step\n",
      "Epoch 82/100\n",
      "1/1 - 0s - loss: 0.0081 - val_loss: 0.0182 - 399ms/epoch - 399ms/step\n",
      "Epoch 83/100\n",
      "1/1 - 0s - loss: 0.0070 - val_loss: 0.0202 - 495ms/epoch - 495ms/step\n",
      "Epoch 84/100\n",
      "1/1 - 1s - loss: 0.0081 - val_loss: 0.0185 - 500ms/epoch - 500ms/step\n",
      "Epoch 85/100\n",
      "1/1 - 0s - loss: 0.0070 - val_loss: 0.0184 - 452ms/epoch - 452ms/step\n",
      "Epoch 86/100\n",
      "1/1 - 0s - loss: 0.0068 - val_loss: 0.0200 - 397ms/epoch - 397ms/step\n",
      "Epoch 87/100\n",
      "1/1 - 0s - loss: 0.0075 - val_loss: 0.0184 - 424ms/epoch - 424ms/step\n",
      "Epoch 88/100\n",
      "1/1 - 1s - loss: 0.0064 - val_loss: 0.0185 - 531ms/epoch - 531ms/step\n",
      "Epoch 89/100\n",
      "1/1 - 0s - loss: 0.0063 - val_loss: 0.0199 - 429ms/epoch - 429ms/step\n",
      "Epoch 90/100\n",
      "1/1 - 0s - loss: 0.0068 - val_loss: 0.0186 - 393ms/epoch - 393ms/step\n",
      "Epoch 91/100\n",
      "1/1 - 0s - loss: 0.0061 - val_loss: 0.0185 - 421ms/epoch - 421ms/step\n",
      "Epoch 92/100\n",
      "1/1 - 1s - loss: 0.0055 - val_loss: 0.0197 - 501ms/epoch - 501ms/step\n",
      "Epoch 93/100\n",
      "1/1 - 0s - loss: 0.0061 - val_loss: 0.0190 - 441ms/epoch - 441ms/step\n",
      "Epoch 94/100\n",
      "1/1 - 0s - loss: 0.0061 - val_loss: 0.0188 - 420ms/epoch - 420ms/step\n",
      "Epoch 95/100\n",
      "1/1 - 0s - loss: 0.0052 - val_loss: 0.0189 - 429ms/epoch - 429ms/step\n",
      "Epoch 96/100\n",
      "1/1 - 0s - loss: 0.0051 - val_loss: 0.0190 - 472ms/epoch - 472ms/step\n",
      "Epoch 97/100\n",
      "1/1 - 0s - loss: 0.0056 - val_loss: 0.0198 - 470ms/epoch - 470ms/step\n",
      "Epoch 98/100\n",
      "1/1 - 0s - loss: 0.0055 - val_loss: 0.0188 - 401ms/epoch - 401ms/step\n",
      "Epoch 99/100\n",
      "1/1 - 0s - loss: 0.0049 - val_loss: 0.0187 - 418ms/epoch - 418ms/step\n"
     ]
    },
    {
     "name": "stdout",
     "output_type": "stream",
     "text": [
      "Epoch 100/100\n",
      "1/1 - 0s - loss: 0.0044 - val_loss: 0.0189 - 495ms/epoch - 495ms/step\n"
     ]
    }
   ],
   "source": [
    "model_history=model.fit(X_train, y_train, epochs=100, batch_size=X_train.shape[0],validation_data=(X_test,y_test)\n",
    "          ,verbose=2)#600\n"
   ]
  },
  {
   "cell_type": "code",
   "execution_count": 7,
   "id": "4268a3fe",
   "metadata": {},
   "outputs": [
    {
     "data": {
      "text/plain": [
       "(<Figure size 500x500 with 1 Axes>,\n",
       " <Axes: title={'center': 'Loss'}, xlabel='Epochs', ylabel='Loss'>)"
      ]
     },
     "execution_count": 7,
     "metadata": {},
     "output_type": "execute_result"
    },
    {
     "data": {
      "image/png": "[encoded data removed]",
      "text/plain": [
       "<Figure size 500x500 with 1 Axes>"
      ]
     },
     "metadata": {},
     "output_type": "display_data"
    }
   ],
   "source": [
    "from plot_keras_history import plot_history\n",
    "plot_history(model_history,show_standard_deviation=False,\n",
    "    show_average=True)"
   ]
  },
  {
   "cell_type": "code",
   "execution_count": null,
   "id": "d82652e0",
   "metadata": {},
   "outputs": [],
   "source": [
    "\n"
   ]
  },
  {
   "cell_type": "code",
   "execution_count": null,
   "id": "f927bc23",
   "metadata": {},
   "outputs": [],
   "source": []
  },
  {
   "cell_type": "code",
   "execution_count": 169,
   "id": "8b2f197e",
   "metadata": {},
   "outputs": [],
   "source": []
  },
  {
   "cell_type": "code",
   "execution_count": 170,
   "id": "9355a162",
   "metadata": {},
   "outputs": [],
   "source": []
  },
  {
   "cell_type": "code",
   "execution_count": 8,
   "id": "8023b12e",
   "metadata": {},
   "outputs": [
    {
     "name": "stdout",
     "output_type": "stream",
     "text": [
      "207/207 [==============================] - 1s 3ms/step\n",
      "0.020138429432009636\n"
     ]
    }
   ],
   "source": [
    "from sklearn.metrics import mean_squared_error\n",
    "y_pred = model.predict(X_test)\n",
    "mse = mean_squared_error(y_pred,y_test)\n",
    "print(mse)"
   ]
  },
  {
   "cell_type": "code",
   "execution_count": 10,
   "id": "2ed005f8",
   "metadata": {},
   "outputs": [],
   "source": [
    "model.save(\"test_USA.h5\")"
   ]
  },
  {
   "cell_type": "code",
   "execution_count": null,
   "id": "4f4b922d",
   "metadata": {},
   "outputs": [],
   "source": []
  }
 ],
 "metadata": {
  "kernelspec": {
   "display_name": "Python 3 (ipykernel)",
   "language": "python",
   "name": "python3"
  },
  "language_info": {
   "codemirror_mode": {
    "name": "ipython",
    "version": 3
   },
   "file_extension": ".py",
   "mimetype": "text/x-python",
   "name": "python",
   "nbconvert_exporter": "python",
   "pygments_lexer": "ipython3",
   "version": "3.10.7"
  }
 },
 "nbformat": 4,
 "nbformat_minor": 5
}
