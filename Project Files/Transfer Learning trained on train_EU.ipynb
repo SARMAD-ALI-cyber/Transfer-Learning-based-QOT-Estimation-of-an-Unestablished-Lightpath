{
 "cells": [
  {
   "cell_type": "code",
   "execution_count": 1,
   "id": "0cc00ffb",
   "metadata": {},
   "outputs": [],
   "source": [
    "import numpy as np\n",
    "import matplotlib.pyplot as plt\n",
    "import pandas as pd\n",
    "from sklearn.model_selection import train_test_split\n",
    "from sklearn.preprocessing import MinMaxScaler\n",
    "from sklearn.preprocessing import StandardScaler\n",
    "import tensorflow as tf,keras\n",
    "from tensorflow.keras.applications import VGG16\n",
    "from tensorflow.keras.models import Sequential,Model\n",
    "from tensorflow.keras.layers import Input, Dense, concatenate, Flatten\n",
    "import logging\n",
    "logging.getLogger(\"tensorflow\").setLevel(logging.ERROR)\n",
    "tf.autograph.set_verbosity(0)\n",
    "from scipy.special import expit"
   ]
  },
  {
   "cell_type": "code",
   "execution_count": 2,
   "id": "c42d8e56",
   "metadata": {},
   "outputs": [
    {
     "name": "stdout",
     "output_type": "stream",
     "text": [
      "df_train (12000, 306)\n",
      "df_test (6000, 306)\n"
     ]
    }
   ],
   "source": [
    "df_train=pd.read_csv('train_EU.csv')\n",
    "df_test=pd.read_csv(\"testdata_EU.csv\")\n",
    "print('df_train',df_train.shape)\n",
    "print('df_test',df_test.shape)"
   ]
  },
  {
   "cell_type": "code",
   "execution_count": 3,
   "id": "bff501a0",
   "metadata": {},
   "outputs": [
    {
     "name": "stdout",
     "output_type": "stream",
     "text": [
      "GSNR_1\n"
     ]
    }
   ],
   "source": [
    "print(df_train.columns[305])"
   ]
  },
  {
   "cell_type": "code",
   "execution_count": 4,
   "id": "c6860265",
   "metadata": {},
   "outputs": [
    {
     "name": "stdout",
     "output_type": "stream",
     "text": [
      "<bound method NDFrame.head of         Power_1   Power_2   Power_3   Power_4   Power_5   Power_6   Power_7  \\\n",
      "0      0.000000  0.000000  0.000007  0.000007  0.000007  0.000000  0.000007   \n",
      "1      0.000000  0.000007  0.000000  0.000007  0.000000  0.000007  0.000000   \n",
      "2      0.000000  0.000000  0.000000  0.000007  0.000000  0.000000  0.000000   \n",
      "3      0.000007  0.000007  0.000007  0.000007  0.000007  0.000000  0.000000   \n",
      "4      0.000000  0.000000  0.000007  0.000000  0.000007  0.000000  0.000000   \n",
      "...         ...       ...       ...       ...       ...       ...       ...   \n",
      "11995  0.000000  0.000010  0.000000  0.000000  0.000010  0.000010  0.000000   \n",
      "11996  0.000000  0.000011  0.000000  0.000011  0.000000  0.000011  0.000011   \n",
      "11997  0.000000  0.000000  0.000011  0.000000  0.000000  0.000011  0.000011   \n",
      "11998  0.000011  0.000000  0.000011  0.000011  0.000000  0.000011  0.000000   \n",
      "11999  0.000000  0.000011  0.000011  0.000000  0.000011  0.000011  0.000011   \n",
      "\n",
      "        Power_8   Power_9  Power_10  ...    GSNR_70    GSNR_71    GSNR_72  \\\n",
      "0      0.000000  0.000007  0.000000  ...   0.000000   0.000000   0.000000   \n",
      "1      0.000000  0.000000  0.000000  ...  92.560867   0.000000   0.000000   \n",
      "2      0.000000  0.000007  0.000000  ...   0.000000  90.991977   0.000000   \n",
      "3      0.000000  0.000007  0.000000  ...  73.664915  74.651700  79.071217   \n",
      "4      0.000000  0.000007  0.000000  ...   0.000000  78.299438  74.910765   \n",
      "...         ...       ...       ...  ...        ...        ...        ...   \n",
      "11995  0.000010  0.000000  0.000010  ...   0.000000   0.000000  64.141223   \n",
      "11996  0.000000  0.000011  0.000011  ...   0.000000  66.061502   0.000000   \n",
      "11997  0.000011  0.000011  0.000011  ...   0.000000  70.980038   0.000000   \n",
      "11998  0.000000  0.000000  0.000011  ...   0.000000  63.727659   0.000000   \n",
      "11999  0.000011  0.000000  0.000011  ...  58.811810  57.925376  57.114958   \n",
      "\n",
      "         GSNR_73    GSNR_74    GSNR_75    GSNR_76  No. Spans  \\\n",
      "0       0.000000  95.045789   0.000000   0.000000          8   \n",
      "1      89.544975   0.000000   0.000000   0.000000          8   \n",
      "2       0.000000   0.000000  85.512399  83.114113          8   \n",
      "3       0.000000   0.000000   0.000000   0.000000          8   \n",
      "4      72.030907  73.790264  81.190439   0.000000          8   \n",
      "...          ...        ...        ...        ...        ...   \n",
      "11995  64.027141  66.309613   0.000000   0.000000          7   \n",
      "11996  69.859298   0.000000   0.000000  72.261141          7   \n",
      "11997   0.000000   0.000000   0.000000   0.000000          7   \n",
      "11998  62.865245  67.670401   0.000000   0.000000          7   \n",
      "11999  60.706477  63.534378   0.000000  68.539741          7   \n",
      "\n",
      "       Total Distance(m)     GSNR_1  \n",
      "0                 690608   0.000000  \n",
      "1                 690608   0.000000  \n",
      "2                 690608   0.000000  \n",
      "3                 690608  78.091734  \n",
      "4                 690608   0.000000  \n",
      "...                  ...        ...  \n",
      "11995             669297   0.000000  \n",
      "11996             669297   0.000000  \n",
      "11997             669297   0.000000  \n",
      "11998             669297  71.313208  \n",
      "11999             669297   0.000000  \n",
      "\n",
      "[12000 rows x 306 columns]>\n"
     ]
    }
   ],
   "source": [
    "print(df_train.head)"
   ]
  },
  {
   "cell_type": "code",
   "execution_count": 44,
   "id": "2f29fa29",
   "metadata": {},
   "outputs": [
    {
     "name": "stdout",
     "output_type": "stream",
     "text": [
      "(9600, 305)\n",
      "(9600, 1)\n",
      "(2400, 305)\n",
      "(2400, 1)\n"
     ]
    }
   ],
   "source": [
    "X = df_train.iloc[:, :-1]  # Select all columns except the last one\n",
    "y=df_train[\"GSNR_1\"]\n",
    "X_train, X_test, y_train, y_test = train_test_split(X, y, test_size=0.2, random_state=42)\n",
    "#======Converting to Arrays=========\n",
    "X_train=np.array(X_train)\n",
    "y_train=np.array(y_train)\n",
    "X_test=np.array(X_test)\n",
    "y_test=np.array(y_test)\n",
    "#========end=======================\n",
    "#=======Reshaping Labels===========\n",
    "y_train=y_train.reshape(-1,1)\n",
    "y_test=y_test.reshape(-1,1)\n",
    "#======end========================\n",
    "#===========printing Shapes======\n",
    "print(X_train.shape)\n",
    "print(y_train.shape)\n",
    "print(X_test.shape)\n",
    "print(y_test.shape)"
   ]
  },
  {
   "cell_type": "code",
   "execution_count": 45,
   "id": "79d4326c",
   "metadata": {},
   "outputs": [],
   "source": [
    "#===========Feature Normalization=================================\n",
    "scaler=StandardScaler()\n",
    "scaler.fit(X_train)\n",
    "X_train=scaler.transform(X_train)\n",
    "X_test=scaler.transform(X_test)"
   ]
  },
  {
   "cell_type": "code",
   "execution_count": 46,
   "id": "c00410d9",
   "metadata": {},
   "outputs": [],
   "source": [
    "#===========Label Normalization==================================\n",
    "label_scaler=MinMaxScaler()\n",
    "label_scaler.fit(y_train)\n",
    "y_train=label_scaler.transform(y_train)\n",
    "y_test=label_scaler.transform(y_test)"
   ]
  },
  {
   "cell_type": "code",
   "execution_count": 47,
   "id": "3ca1b4cd",
   "metadata": {},
   "outputs": [
    {
     "name": "stdout",
     "output_type": "stream",
     "text": [
      "Model: \"sequential\"\n",
      "_________________________________________________________________\n",
      " Layer (type)                Output Shape              Param #   \n",
      "=================================================================\n",
      " dense (Dense)               (None, 305)               93330     \n",
      "                                                                 \n",
      " dense_1 (Dense)             (None, 256)               78336     \n",
      "                                                                 \n",
      " dense_2 (Dense)             (None, 128)               32896     \n",
      "                                                                 \n",
      " dense_3 (Dense)             (None, 64)                8256      \n",
      "                                                                 \n",
      " dense_4 (Dense)             (None, 32)                2080      \n",
      "                                                                 \n",
      " dense_5 (Dense)             (None, 16)                528       \n",
      "                                                                 \n",
      "=================================================================\n",
      "Total params: 215,426\n",
      "Trainable params: 215,426\n",
      "Non-trainable params: 0\n",
      "_________________________________________________________________\n"
     ]
    }
   ],
   "source": [
    "#=============== Loading Pretrained Model============================\n",
    "pretrained_model = keras.models.load_model('test_USA.h5')\n",
    "pretrained_model.pop()\n",
    "pretrained_model.summary()"
   ]
  },
  {
   "cell_type": "code",
   "execution_count": 48,
   "id": "8b325bc1",
   "metadata": {},
   "outputs": [
    {
     "name": "stdout",
     "output_type": "stream",
     "text": [
      "Model: \"sequential_5\"\n",
      "_________________________________________________________________\n",
      " Layer (type)                Output Shape              Param #   \n",
      "=================================================================\n",
      " sequential (Sequential)     (None, 16)                215426    \n",
      "                                                                 \n",
      " dense_4 (Dense)             (None, 64)                1088      \n",
      "                                                                 \n",
      " dense_5 (Dense)             (None, 1)                 65        \n",
      "                                                                 \n",
      "=================================================================\n",
      "Total params: 216,579\n",
      "Trainable params: 1,153\n",
      "Non-trainable params: 215,426\n",
      "_________________________________________________________________\n"
     ]
    }
   ],
   "source": [
    "model=Sequential()\n",
    "model.add(pretrained_model)\n",
    "model.add(tf.keras.layers.Dense(64,activation='relu'))\n",
    "model.add(tf.keras.layers.Dense(1,activation='linear'))\n",
    "pretrained_model.trainable=False\n",
    "model.summary()"
   ]
  },
  {
   "cell_type": "code",
   "execution_count": 49,
   "id": "e35080c7",
   "metadata": {},
   "outputs": [],
   "source": [
    "optimizer = tf.keras.optimizers.Adam(learning_rate=0.001)#0.001\n",
    "model.compile(optimizer=optimizer, loss='mean_squared_error')"
   ]
  },
  {
   "cell_type": "code",
   "execution_count": 50,
   "id": "1895c207",
   "metadata": {},
   "outputs": [
    {
     "name": "stdout",
     "output_type": "stream",
     "text": [
      "Epoch 1/100\n",
      "1/1 - 1s - loss: 0.0994 - val_loss: 0.0904 - 678ms/epoch - 678ms/step\n",
      "Epoch 2/100\n",
      "1/1 - 0s - loss: 0.0922 - val_loss: 0.0845 - 82ms/epoch - 82ms/step\n",
      "Epoch 3/100\n",
      "1/1 - 0s - loss: 0.0862 - val_loss: 0.0798 - 66ms/epoch - 66ms/step\n",
      "Epoch 4/100\n",
      "1/1 - 0s - loss: 0.0813 - val_loss: 0.0761 - 84ms/epoch - 84ms/step\n",
      "Epoch 5/100\n",
      "1/1 - 0s - loss: 0.0774 - val_loss: 0.0732 - 101ms/epoch - 101ms/step\n",
      "Epoch 6/100\n",
      "1/1 - 0s - loss: 0.0744 - val_loss: 0.0711 - 104ms/epoch - 104ms/step\n",
      "Epoch 7/100\n",
      "1/1 - 0s - loss: 0.0721 - val_loss: 0.0695 - 82ms/epoch - 82ms/step\n",
      "Epoch 8/100\n",
      "1/1 - 0s - loss: 0.0705 - val_loss: 0.0684 - 83ms/epoch - 83ms/step\n",
      "Epoch 9/100\n",
      "1/1 - 0s - loss: 0.0693 - val_loss: 0.0676 - 95ms/epoch - 95ms/step\n",
      "Epoch 10/100\n",
      "1/1 - 0s - loss: 0.0683 - val_loss: 0.0668 - 100ms/epoch - 100ms/step\n",
      "Epoch 11/100\n",
      "1/1 - 0s - loss: 0.0675 - val_loss: 0.0660 - 96ms/epoch - 96ms/step\n",
      "Epoch 12/100\n",
      "1/1 - 0s - loss: 0.0666 - val_loss: 0.0651 - 100ms/epoch - 100ms/step\n",
      "Epoch 13/100\n",
      "1/1 - 0s - loss: 0.0656 - val_loss: 0.0640 - 102ms/epoch - 102ms/step\n",
      "Epoch 14/100\n",
      "1/1 - 0s - loss: 0.0645 - val_loss: 0.0628 - 83ms/epoch - 83ms/step\n",
      "Epoch 15/100\n",
      "1/1 - 0s - loss: 0.0632 - val_loss: 0.0614 - 91ms/epoch - 91ms/step\n",
      "Epoch 16/100\n",
      "1/1 - 0s - loss: 0.0618 - val_loss: 0.0600 - 86ms/epoch - 86ms/step\n",
      "Epoch 17/100\n",
      "1/1 - 0s - loss: 0.0603 - val_loss: 0.0585 - 84ms/epoch - 84ms/step\n",
      "Epoch 18/100\n",
      "1/1 - 0s - loss: 0.0589 - val_loss: 0.0571 - 82ms/epoch - 82ms/step\n",
      "Epoch 19/100\n",
      "1/1 - 0s - loss: 0.0575 - val_loss: 0.0559 - 102ms/epoch - 102ms/step\n",
      "Epoch 20/100\n",
      "1/1 - 0s - loss: 0.0562 - val_loss: 0.0547 - 99ms/epoch - 99ms/step\n",
      "Epoch 21/100\n",
      "1/1 - 0s - loss: 0.0550 - val_loss: 0.0537 - 100ms/epoch - 100ms/step\n",
      "Epoch 22/100\n",
      "1/1 - 0s - loss: 0.0540 - val_loss: 0.0529 - 100ms/epoch - 100ms/step\n",
      "Epoch 23/100\n",
      "1/1 - 0s - loss: 0.0531 - val_loss: 0.0521 - 100ms/epoch - 100ms/step\n",
      "Epoch 24/100\n",
      "1/1 - 0s - loss: 0.0524 - val_loss: 0.0515 - 100ms/epoch - 100ms/step\n",
      "Epoch 25/100\n",
      "1/1 - 0s - loss: 0.0517 - val_loss: 0.0509 - 87ms/epoch - 87ms/step\n",
      "Epoch 26/100\n",
      "1/1 - 0s - loss: 0.0511 - val_loss: 0.0503 - 101ms/epoch - 101ms/step\n",
      "Epoch 27/100\n",
      "1/1 - 0s - loss: 0.0504 - val_loss: 0.0496 - 99ms/epoch - 99ms/step\n",
      "Epoch 28/100\n",
      "1/1 - 0s - loss: 0.0498 - val_loss: 0.0490 - 82ms/epoch - 82ms/step\n",
      "Epoch 29/100\n",
      "1/1 - 0s - loss: 0.0491 - val_loss: 0.0483 - 100ms/epoch - 100ms/step\n",
      "Epoch 30/100\n",
      "1/1 - 0s - loss: 0.0483 - val_loss: 0.0476 - 100ms/epoch - 100ms/step\n",
      "Epoch 31/100\n",
      "1/1 - 0s - loss: 0.0476 - val_loss: 0.0469 - 82ms/epoch - 82ms/step\n",
      "Epoch 32/100\n",
      "1/1 - 0s - loss: 0.0468 - val_loss: 0.0462 - 68ms/epoch - 68ms/step\n",
      "Epoch 33/100\n",
      "1/1 - 0s - loss: 0.0461 - val_loss: 0.0455 - 65ms/epoch - 65ms/step\n",
      "Epoch 34/100\n",
      "1/1 - 0s - loss: 0.0454 - val_loss: 0.0449 - 99ms/epoch - 99ms/step\n",
      "Epoch 35/100\n",
      "1/1 - 0s - loss: 0.0447 - val_loss: 0.0444 - 100ms/epoch - 100ms/step\n",
      "Epoch 36/100\n",
      "1/1 - 0s - loss: 0.0441 - val_loss: 0.0439 - 97ms/epoch - 97ms/step\n",
      "Epoch 37/100\n",
      "1/1 - 0s - loss: 0.0435 - val_loss: 0.0434 - 83ms/epoch - 83ms/step\n",
      "Epoch 38/100\n",
      "1/1 - 0s - loss: 0.0430 - val_loss: 0.0429 - 90ms/epoch - 90ms/step\n",
      "Epoch 39/100\n",
      "1/1 - 0s - loss: 0.0424 - val_loss: 0.0424 - 80ms/epoch - 80ms/step\n",
      "Epoch 40/100\n",
      "1/1 - 0s - loss: 0.0419 - val_loss: 0.0418 - 83ms/epoch - 83ms/step\n",
      "Epoch 41/100\n",
      "1/1 - 0s - loss: 0.0413 - val_loss: 0.0413 - 85ms/epoch - 85ms/step\n",
      "Epoch 42/100\n",
      "1/1 - 0s - loss: 0.0408 - val_loss: 0.0407 - 101ms/epoch - 101ms/step\n",
      "Epoch 43/100\n",
      "1/1 - 0s - loss: 0.0402 - val_loss: 0.0402 - 100ms/epoch - 100ms/step\n",
      "Epoch 44/100\n",
      "1/1 - 0s - loss: 0.0397 - val_loss: 0.0397 - 83ms/epoch - 83ms/step\n",
      "Epoch 45/100\n",
      "1/1 - 0s - loss: 0.0391 - val_loss: 0.0391 - 68ms/epoch - 68ms/step\n",
      "Epoch 46/100\n",
      "1/1 - 0s - loss: 0.0386 - val_loss: 0.0387 - 97ms/epoch - 97ms/step\n",
      "Epoch 47/100\n",
      "1/1 - 0s - loss: 0.0382 - val_loss: 0.0382 - 83ms/epoch - 83ms/step\n",
      "Epoch 48/100\n",
      "1/1 - 0s - loss: 0.0377 - val_loss: 0.0378 - 98ms/epoch - 98ms/step\n",
      "Epoch 49/100\n",
      "1/1 - 0s - loss: 0.0373 - val_loss: 0.0374 - 99ms/epoch - 99ms/step\n",
      "Epoch 50/100\n",
      "1/1 - 0s - loss: 0.0369 - val_loss: 0.0370 - 83ms/epoch - 83ms/step\n",
      "Epoch 51/100\n",
      "1/1 - 0s - loss: 0.0365 - val_loss: 0.0366 - 70ms/epoch - 70ms/step\n",
      "Epoch 52/100\n",
      "1/1 - 0s - loss: 0.0361 - val_loss: 0.0363 - 99ms/epoch - 99ms/step\n",
      "Epoch 53/100\n",
      "1/1 - 0s - loss: 0.0358 - val_loss: 0.0359 - 98ms/epoch - 98ms/step\n",
      "Epoch 54/100\n",
      "1/1 - 0s - loss: 0.0354 - val_loss: 0.0356 - 74ms/epoch - 74ms/step\n",
      "Epoch 55/100\n",
      "1/1 - 0s - loss: 0.0350 - val_loss: 0.0352 - 73ms/epoch - 73ms/step\n",
      "Epoch 56/100\n",
      "1/1 - 0s - loss: 0.0347 - val_loss: 0.0349 - 100ms/epoch - 100ms/step\n",
      "Epoch 57/100\n",
      "1/1 - 0s - loss: 0.0343 - val_loss: 0.0347 - 83ms/epoch - 83ms/step\n",
      "Epoch 58/100\n",
      "1/1 - 0s - loss: 0.0340 - val_loss: 0.0344 - 82ms/epoch - 82ms/step\n",
      "Epoch 59/100\n",
      "1/1 - 0s - loss: 0.0337 - val_loss: 0.0341 - 82ms/epoch - 82ms/step\n",
      "Epoch 60/100\n",
      "1/1 - 0s - loss: 0.0334 - val_loss: 0.0339 - 84ms/epoch - 84ms/step\n",
      "Epoch 61/100\n",
      "1/1 - 0s - loss: 0.0331 - val_loss: 0.0336 - 82ms/epoch - 82ms/step\n",
      "Epoch 62/100\n",
      "1/1 - 0s - loss: 0.0328 - val_loss: 0.0334 - 74ms/epoch - 74ms/step\n",
      "Epoch 63/100\n",
      "1/1 - 0s - loss: 0.0326 - val_loss: 0.0332 - 94ms/epoch - 94ms/step\n",
      "Epoch 64/100\n",
      "1/1 - 0s - loss: 0.0323 - val_loss: 0.0329 - 85ms/epoch - 85ms/step\n",
      "Epoch 65/100\n",
      "1/1 - 0s - loss: 0.0321 - val_loss: 0.0328 - 82ms/epoch - 82ms/step\n",
      "Epoch 66/100\n",
      "1/1 - 0s - loss: 0.0319 - val_loss: 0.0326 - 98ms/epoch - 98ms/step\n",
      "Epoch 67/100\n",
      "1/1 - 0s - loss: 0.0317 - val_loss: 0.0324 - 84ms/epoch - 84ms/step\n",
      "Epoch 68/100\n",
      "1/1 - 0s - loss: 0.0315 - val_loss: 0.0323 - 82ms/epoch - 82ms/step\n",
      "Epoch 69/100\n",
      "1/1 - 0s - loss: 0.0314 - val_loss: 0.0322 - 83ms/epoch - 83ms/step\n",
      "Epoch 70/100\n",
      "1/1 - 0s - loss: 0.0313 - val_loss: 0.0320 - 83ms/epoch - 83ms/step\n",
      "Epoch 71/100\n",
      "1/1 - 0s - loss: 0.0311 - val_loss: 0.0319 - 102ms/epoch - 102ms/step\n",
      "Epoch 72/100\n",
      "1/1 - 0s - loss: 0.0310 - val_loss: 0.0319 - 88ms/epoch - 88ms/step\n",
      "Epoch 73/100\n",
      "1/1 - 0s - loss: 0.0309 - val_loss: 0.0318 - 84ms/epoch - 84ms/step\n",
      "Epoch 74/100\n",
      "1/1 - 0s - loss: 0.0308 - val_loss: 0.0317 - 81ms/epoch - 81ms/step\n",
      "Epoch 75/100\n",
      "1/1 - 0s - loss: 0.0307 - val_loss: 0.0316 - 84ms/epoch - 84ms/step\n",
      "Epoch 76/100\n",
      "1/1 - 0s - loss: 0.0306 - val_loss: 0.0316 - 83ms/epoch - 83ms/step\n",
      "Epoch 77/100\n",
      "1/1 - 0s - loss: 0.0305 - val_loss: 0.0315 - 84ms/epoch - 84ms/step\n",
      "Epoch 78/100\n",
      "1/1 - 0s - loss: 0.0304 - val_loss: 0.0314 - 84ms/epoch - 84ms/step\n",
      "Epoch 79/100\n",
      "1/1 - 0s - loss: 0.0304 - val_loss: 0.0314 - 94ms/epoch - 94ms/step\n",
      "Epoch 80/100\n",
      "1/1 - 0s - loss: 0.0303 - val_loss: 0.0313 - 85ms/epoch - 85ms/step\n",
      "Epoch 81/100\n",
      "1/1 - 0s - loss: 0.0302 - val_loss: 0.0312 - 95ms/epoch - 95ms/step\n",
      "Epoch 82/100\n",
      "1/1 - 0s - loss: 0.0301 - val_loss: 0.0312 - 85ms/epoch - 85ms/step\n",
      "Epoch 83/100\n",
      "1/1 - 0s - loss: 0.0301 - val_loss: 0.0311 - 96ms/epoch - 96ms/step\n",
      "Epoch 84/100\n",
      "1/1 - 0s - loss: 0.0300 - val_loss: 0.0310 - 64ms/epoch - 64ms/step\n",
      "Epoch 85/100\n",
      "1/1 - 0s - loss: 0.0300 - val_loss: 0.0310 - 87ms/epoch - 87ms/step\n",
      "Epoch 86/100\n",
      "1/1 - 0s - loss: 0.0299 - val_loss: 0.0309 - 84ms/epoch - 84ms/step\n",
      "Epoch 87/100\n",
      "1/1 - 0s - loss: 0.0299 - val_loss: 0.0309 - 84ms/epoch - 84ms/step\n",
      "Epoch 88/100\n",
      "1/1 - 0s - loss: 0.0298 - val_loss: 0.0308 - 99ms/epoch - 99ms/step\n",
      "Epoch 89/100\n",
      "1/1 - 0s - loss: 0.0297 - val_loss: 0.0308 - 98ms/epoch - 98ms/step\n",
      "Epoch 90/100\n",
      "1/1 - 0s - loss: 0.0297 - val_loss: 0.0308 - 82ms/epoch - 82ms/step\n",
      "Epoch 91/100\n",
      "1/1 - 0s - loss: 0.0297 - val_loss: 0.0307 - 83ms/epoch - 83ms/step\n",
      "Epoch 92/100\n",
      "1/1 - 0s - loss: 0.0296 - val_loss: 0.0307 - 84ms/epoch - 84ms/step\n",
      "Epoch 93/100\n",
      "1/1 - 0s - loss: 0.0296 - val_loss: 0.0307 - 83ms/epoch - 83ms/step\n",
      "Epoch 94/100\n",
      "1/1 - 0s - loss: 0.0295 - val_loss: 0.0306 - 83ms/epoch - 83ms/step\n",
      "Epoch 95/100\n",
      "1/1 - 0s - loss: 0.0295 - val_loss: 0.0306 - 83ms/epoch - 83ms/step\n",
      "Epoch 96/100\n",
      "1/1 - 0s - loss: 0.0294 - val_loss: 0.0306 - 89ms/epoch - 89ms/step\n",
      "Epoch 97/100\n",
      "1/1 - 0s - loss: 0.0294 - val_loss: 0.0305 - 78ms/epoch - 78ms/step\n",
      "Epoch 98/100\n",
      "1/1 - 0s - loss: 0.0294 - val_loss: 0.0305 - 99ms/epoch - 99ms/step\n",
      "Epoch 99/100\n",
      "1/1 - 0s - loss: 0.0293 - val_loss: 0.0305 - 84ms/epoch - 84ms/step\n",
      "Epoch 100/100\n",
      "1/1 - 0s - loss: 0.0293 - val_loss: 0.0304 - 100ms/epoch - 100ms/step\n"
     ]
    }
   ],
   "source": [
    "model_history=model.fit(X_train, y_train, epochs=100, batch_size=X_train.shape[0],validation_data=(X_test,y_test)\n",
    "          ,verbose=2)"
   ]
  },
  {
   "cell_type": "code",
   "execution_count": 51,
   "id": "2f04834b",
   "metadata": {},
   "outputs": [
    {
     "data": {
      "text/plain": [
       "(<Figure size 500x500 with 1 Axes>,\n",
       " <Axes: title={'center': 'Loss'}, xlabel='Epochs', ylabel='Loss'>)"
      ]
     },
     "execution_count": 51,
     "metadata": {},
     "output_type": "execute_result"
    },
    {
     "data": {
      "image/png": "[encoded data removed]",
      "text/plain": [
       "<Figure size 500x500 with 1 Axes>"
      ]
     },
     "metadata": {},
     "output_type": "display_data"
    }
   ],
   "source": [
    "from plot_keras_history import plot_history\n",
    "plot_history(model_history,show_standard_deviation=False,\n",
    "    show_average=True)"
   ]
  },
  {
   "cell_type": "code",
   "execution_count": 52,
   "id": "58586447",
   "metadata": {},
   "outputs": [
    {
     "name": "stdout",
     "output_type": "stream",
     "text": [
      "75/75 [==============================] - 0s 3ms/step\n",
      "0.030434789204501513\n"
     ]
    }
   ],
   "source": [
    "from sklearn.metrics import mean_squared_error\n",
    "y_pred = model.predict(X_test)\n",
    "mse = mean_squared_error(y_pred,y_test)\n",
    "print(mse)"
   ]
  },
  {
   "cell_type": "code",
   "execution_count": null,
   "id": "3a615ffa",
   "metadata": {},
   "outputs": [],
   "source": []
  }
 ],
 "metadata": {
  "kernelspec": {
   "display_name": "Python 3 (ipykernel)",
   "language": "python",
   "name": "python3"
  },
  "language_info": {
   "codemirror_mode": {
    "name": "ipython",
    "version": 3
   },
   "file_extension": ".py",
   "mimetype": "text/x-python",
   "name": "python",
   "nbconvert_exporter": "python",
   "pygments_lexer": "ipython3",
   "version": "3.10.7"
  }
 },
 "nbformat": 4,
 "nbformat_minor": 5
}
