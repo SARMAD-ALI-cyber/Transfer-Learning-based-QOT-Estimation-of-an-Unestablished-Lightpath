{
 "cells": [
  {
   "cell_type": "code",
   "execution_count": 4,
   "id": "49c12117",
   "metadata": {},
   "outputs": [],
   "source": [
    "import pandas as pd\n",
    "\n",
    "# Replace 'file1.csv' and 'file2.csv' with the actual file paths of your CSV files.\n",
    "df= pd.read_csv('train_EU.csv')\n"
   ]
  },
  {
   "cell_type": "code",
   "execution_count": 6,
   "id": "525c09c2",
   "metadata": {},
   "outputs": [],
   "source": [
    "df = df.drop(df.columns[306], axis=1)"
   ]
  },
  {
   "cell_type": "code",
   "execution_count": 12,
   "id": "05cc2cc8",
   "metadata": {},
   "outputs": [
    {
     "data": {
      "text/plain": [
       "'GSNR_1'"
      ]
     },
     "execution_count": 12,
     "metadata": {},
     "output_type": "execute_result"
    }
   ],
   "source": [
    "df.columns[305]"
   ]
  },
  {
   "cell_type": "code",
   "execution_count": 13,
   "id": "562ad7e1",
   "metadata": {},
   "outputs": [],
   "source": [
    "df.to_csv('train_EU.csv', index=False)"
   ]
  },
  {
   "cell_type": "code",
   "execution_count": null,
   "id": "73a88725",
   "metadata": {},
   "outputs": [],
   "source": []
  }
 ],
 "metadata": {
  "kernelspec": {
   "display_name": "Python 3 (ipykernel)",
   "language": "python",
   "name": "python3"
  },
  "language_info": {
   "codemirror_mode": {
    "name": "ipython",
    "version": 3
   },
   "file_extension": ".py",
   "mimetype": "text/x-python",
   "name": "python",
   "nbconvert_exporter": "python",
   "pygments_lexer": "ipython3",
   "version": "3.10.7"
  }
 },
 "nbformat": 4,
 "nbformat_minor": 5
}
